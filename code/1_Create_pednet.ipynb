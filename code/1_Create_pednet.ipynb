{
 "cells": [
  {
   "cell_type": "markdown",
   "id": "96814511-3990-4f04-bdff-54d030b0b0d1",
   "metadata": {},
   "source": [
    "# Setup"
   ]
  },
  {
   "cell_type": "code",
   "execution_count": 1,
   "id": "9f3d619c-dffc-4a2c-a284-aa2bda8d7a4a",
   "metadata": {},
   "outputs": [],
   "source": [
    "from setup import *"
   ]
  },
  {
   "cell_type": "code",
   "execution_count": 2,
   "id": "57ab3083-30f4-4761-9d0f-3766cea81e2c",
   "metadata": {},
   "outputs": [],
   "source": [
    "import osmnx\n",
    "from pqdm.processes import pqdm\n",
    "from shapely.geometry import LineString, Point"
   ]
  },
  {
   "cell_type": "code",
   "execution_count": 3,
   "id": "880c3099-dac1-43f2-9ca4-ac4aeb4c5ba1",
   "metadata": {},
   "outputs": [],
   "source": [
    "aus = City('Austin, TX')\n",
    "cam = City('Cambridge, MA')\n",
    "sea = City('Seattle, WA')\n",
    "tor = City('Toronto, Ontario')"
   ]
  },
  {
   "cell_type": "markdown",
   "id": "8ad8f120-33f5-4bee-88bc-c91f32ee48ae",
   "metadata": {},
   "source": [
    "---\n",
    "# Boundaries"
   ]
  },
  {
   "cell_type": "markdown",
   "id": "0afd6047-8b95-4bb9-986f-e56c1ea7a7e7",
   "metadata": {},
   "source": [
    "## City boundary"
   ]
  },
  {
   "cell_type": "raw",
   "id": "aa6a2eaf-0df9-4242-a855-02b58242751e",
   "metadata": {},
   "source": [
    "### US city limits"
   ]
  },
  {
   "cell_type": "raw",
   "id": "72c481fb-c67d-4d2c-8069-34d28cbea534",
   "metadata": {},
   "source": [
    "!time wget -P data/USA https://www2.census.gov/geo/tiger/GENZ2018/shp/cb_2018_us_ua10_500k.zip\n",
    "us_city_lims = gpd.read_file(P.data + 'USA/cb_2018_us_ua10_500k.zip').disp(0)"
   ]
  },
  {
   "cell_type": "code",
   "execution_count": 4,
   "id": "381fbbbf-ad35-4e9e-a41a-975c3b8666fb",
   "metadata": {},
   "outputs": [],
   "source": [
    "def save_osm_city_boundary(city):\n",
    "    city.save('boundary', osmnx.geocode_to_gdf(city.geocode)[['geometry']].to_crs(CRS_DEG))"
   ]
  },
  {
   "cell_type": "markdown",
   "id": "1dae8b85-4d1f-4a1f-99a1-ff44f817e88b",
   "metadata": {},
   "source": [
    "**AUSTIN**"
   ]
  },
  {
   "cell_type": "raw",
   "id": "79dc3203-ce38-46b9-b4c9-ada0caabe596",
   "metadata": {},
   "source": [
    "# aus.save('boundary', us_city_lims.query('NAME10 == \"Austin, TX\"')[['geometry']].to_crs(CRS_DEG))\n",
    "save_osm_city_boundary(aus)"
   ]
  },
  {
   "cell_type": "markdown",
   "id": "ed2770d3-3b1b-47a7-af7d-2c80a64f1353",
   "metadata": {},
   "source": [
    "[**CAMBRIDGE**](https://www.cambridgema.gov/GIS/gisdatadictionary/Boundary/BOUNDARY_CityBoundary)"
   ]
  },
  {
   "cell_type": "raw",
   "id": "b2ba126c-46ca-4535-abb8-4d0281b6d972",
   "metadata": {},
   "source": [
    "# cam.save('boundary', gpd.read_file(P.data + 'raw/Cambridge_CityBoundary.shp.zip')[['geometry']].to_crs(CRS_DEG))\n",
    "save_osm_city_boundary(cam)"
   ]
  },
  {
   "cell_type": "markdown",
   "id": "a3169ad6-bcf3-43d8-8046-e07ab95a808f",
   "metadata": {},
   "source": [
    "[**SEATTLE**](https://geo.wa.gov/datasets/WSDOT::wsdot-city-limits/about)"
   ]
  },
  {
   "cell_type": "raw",
   "id": "e51adfa8",
   "metadata": {},
   "source": [
    "# sea.save('boundary', gpd.read_file(P.data + 'raw/Seattle - WSDOT_-_City_Limits.zip')[['geometry']].to_crs(CRS_DEG))\n",
    "save_osm_city_boundary(sea)"
   ]
  },
  {
   "cell_type": "markdown",
   "id": "741a08fd",
   "metadata": {},
   "source": [
    "[**TORONTO**](https://open.toronto.ca/dataset/regional-municipal-boundary/)"
   ]
  },
  {
   "cell_type": "raw",
   "id": "6fde628c",
   "metadata": {},
   "source": [
    "tor.save('boundary', gpd.read_file(P.data + 'raw/toronto-boundary-wgs84.zip')[['geometry']].to_crs(CRS_DEG))\n",
    "# save_osm_city_boundary(tor, 'Toronto, Ontario') # Not proper boundary"
   ]
  },
  {
   "cell_type": "markdown",
   "id": "c6132141",
   "metadata": {},
   "source": [
    "## Roads"
   ]
  },
  {
   "cell_type": "markdown",
   "id": "d6ad4e49",
   "metadata": {},
   "source": [
    "[**AUSTIN**](https://data.austintexas.gov/Locations-and-Maps/Street-Centerline/m5w3-uea6)"
   ]
  },
  {
   "cell_type": "raw",
   "id": "fd3d417a",
   "metadata": {},
   "source": [
    "%%time\n",
    "# t = 7s\n",
    "aus.save('roads', (gpd.read_file(P.data + 'raw/Austin Street Centerline.zip')\n",
    "                   .rename(columns={'street_typ':'kind', 'speed_limi':'speed_limit'})\n",
    "                   [['kind','speed_limit','geometry']].rename_axis('id').to_crs(CRS_DEG)))"
   ]
  },
  {
   "cell_type": "markdown",
   "id": "8153c976-4818-463d-acdc-7346558044e8",
   "metadata": {},
   "source": [
    "[**CAMBRIDGE**](https://www.cambridgema.gov/GIS/gisdatadictionary/Trans/TRANS_Centerlines)"
   ]
  },
  {
   "cell_type": "raw",
   "id": "38f69957-71bc-4ad2-abee-c49837f92b46",
   "metadata": {},
   "source": [
    "cam.save('roads', (gpd.read_file(P.data + 'raw/Cambridge_TRANS_Centerlines.shp.zip')\n",
    "                   .rename(columns={'Direction':'direction', 'MajorRoad':'major_road'})\n",
    "                   [['direction','major_road','geometry']].rename_axis('id').to_crs(CRS_DEG)))"
   ]
  },
  {
   "cell_type": "markdown",
   "id": "b9bc1b05-a588-4e58-a342-4e0b22105ab6",
   "metadata": {},
   "source": [
    "[**SEATTLE**](https://data-seattlecitygis.opendata.arcgis.com/datasets/SeattleCityGIS::seattle-streets/about)"
   ]
  },
  {
   "cell_type": "raw",
   "id": "dbff006b-660f-4273-a1d8-7dde6914539d",
   "metadata": {},
   "source": [
    "%%time\n",
    "# t = 3s\n",
    "sea.save('roads', (gpd.read_file(P.data + 'raw/Seattle_Streets.zip').rename(columns=str.lower)\n",
    "                   .rename(columns={'artclass':'fclass', 'segdir':'direction', 'oneway':'one_way',\n",
    "                                    'surfacewid':'width', 'speedlimit':'speed_limit', 'nationhwys':'is_highway'})\n",
    "                   ['fclass is_highway direction one_way width speed_limit slope_pct geometry'.split()]\n",
    "                   .fillna({'fclass': -1}).astype({'fclass': int})\n",
    "                   .assign(is_highway = lambda df: df.is_highway == 'Y')\n",
    "                   .rename_axis('id').to_crs(CRS_DEG)))"
   ]
  },
  {
   "cell_type": "markdown",
   "id": "9205f05b-e012-4c9e-88b8-8798262ca757",
   "metadata": {},
   "source": [
    "[**TORONTO**](https://open.toronto.ca/dataset/toronto-centreline-tcl/)"
   ]
  },
  {
   "cell_type": "raw",
   "id": "77a96ec5-03b1-400f-bf09-67363bcb21ec",
   "metadata": {},
   "source": [
    "%%time\n",
    "# t = 7s\n",
    "tor.save('roads', (gpd.read_file(P.data + 'raw/Toronto Centreline (wgs84) - shapefile.zip')\n",
    "                   .rename(columns={'ONEWAY_DIR':'one_way', 'FEATURE_00':'kind'})\n",
    "                   [['kind','one_way','geometry']].rename_axis('id').to_crs(CRS_DEG)))"
   ]
  },
  {
   "cell_type": "markdown",
   "id": "3d069f45-fd32-49b6-bb1d-e5e7085df4a1",
   "metadata": {},
   "source": [
    "## Sidewalks"
   ]
  },
  {
   "cell_type": "markdown",
   "id": "2c78355c-2f23-45ae-ae08-44a01f23d2c9",
   "metadata": {},
   "source": [
    "[**AUSTIN**](https://data.austintexas.gov/Locations-and-Maps/Sidewalks/pc5y-5bpw)"
   ]
  },
  {
   "cell_type": "raw",
   "id": "a940b3f8-32e4-43b4-80a3-41d205d0d171",
   "metadata": {},
   "source": [
    "%%time\n",
    "# t = 28s\n",
    "aus.save('sidewalks', (gpd.read_file(P.data + 'raw/Austin Sidewalks.zip')\n",
    "                       .explode(index_parts=True).reset_index()\n",
    "                       .rename(columns={'functional':'condition', 'pedestrian':'kind'})\n",
    "                       .assign(exists = lambda df: df['kind'].isin(['EXISTING_SIDEWALK', 'DRIVEWAY', 'SHARED_USE_PATH']))\n",
    "                       [['kind','exists','condition','geometry']].rename_axis('id').to_crs(CRS_DEG)))"
   ]
  },
  {
   "cell_type": "code",
   "execution_count": 5,
   "id": "93ba3c8f-8f7b-4460-a9d5-cb398c5c1e8d",
   "metadata": {},
   "outputs": [
    {
     "data": {
      "text/plain": [
       "343773"
      ]
     },
     "execution_count": 5,
     "metadata": {},
     "output_type": "execute_result"
    }
   ],
   "source": [
    "aus.load('sidewalks').kind.value_counts().sum()"
   ]
  },
  {
   "cell_type": "markdown",
   "id": "7e9c2136-1fde-4f77-aca1-33da9c611902",
   "metadata": {},
   "source": [
    "[**CAMBRIDGE**](https://www.cambridgema.gov/GIS/gisdatadictionary/Trans/TRANS_SidewalkCenterlines)"
   ]
  },
  {
   "cell_type": "raw",
   "id": "cb39d5ef-bd94-4790-b356-f4ce30a7a344",
   "metadata": {},
   "source": [
    "cam.save('sidewalks', (gpd.read_file(P.data + 'raw/Cambridge_TRANS_SidewalkCenterlines.shp.zip')\n",
    "                       .query('TYPE != \"CWALK-CL\"').reset_index().rename(columns={'TYPE':'kind'})\n",
    "                       [['kind','geometry']].rename_axis('id').to_crs(CRS_DEG)))"
   ]
  },
  {
   "cell_type": "markdown",
   "id": "f4404189-97cc-45f5-a1ed-f78a72c2bb4e",
   "metadata": {},
   "source": [
    "[**SEATTLE**](https://data-seattlecitygis.opendata.arcgis.com/datasets/SeattleCityGIS::sidewalks/about)"
   ]
  },
  {
   "cell_type": "raw",
   "id": "6409fa33-fbea-4349-ad02-1d0aebeb5648",
   "metadata": {},
   "source": [
    "%%time\n",
    "# t = 6s\n",
    "sea.save('sidewalks', (gpd.read_file(P.data + 'raw/Seattle Sidewalks.zip').rename(columns=str.lower)\n",
    "                       .rename(columns={'sw_width':'width', 'surftype':'surface', 'sw_categor':'kind'})\n",
    "                       .dropna(subset=['geometry']).explode(index_parts=True).reset_index()\n",
    "                       [['kind','side','surface','width','condition','geometry']]\n",
    "                       .rename_axis('id').to_crs(CRS_DEG)))"
   ]
  },
  {
   "cell_type": "markdown",
   "id": "1513ecc2-6818-47b3-8bb8-650f4b9558bf",
   "metadata": {},
   "source": [
    "[**TORONTO**](https://open.toronto.ca/dataset/pedestrian-network/)"
   ]
  },
  {
   "cell_type": "raw",
   "id": "a7584f46-3e7c-4610-b3a3-2ba3059e69a6",
   "metadata": {},
   "source": [
    "%%time\n",
    "# t = 4s\n",
    "tor.save('sidewalks', (gpd.read_file(P.data + 'raw/Toronto Pedestrian Network 2019 - WGS84.zip')\n",
    "                       .query('crosswalk == 0').reset_index()\n",
    "                       .rename(columns={'sdwlk_desc':'kind'})[['road_type','kind','geometry']]\n",
    "                       .assign(exists = lambda df: df['kind'].isin(tor.sidewalk_exists_labels))\n",
    "                       .rename_axis('id').to_crs(CRS_DEG)))"
   ]
  },
  {
   "cell_type": "markdown",
   "id": "57b1b5ae-9577-4ba4-8917-ed7c86c72457",
   "metadata": {},
   "source": [
    "## Crosswalks"
   ]
  },
  {
   "cell_type": "markdown",
   "id": "08316617-8a62-42cf-b811-17a3142d7697",
   "metadata": {},
   "source": [
    "[**AUSTIN**](https://data.austintexas.gov/Transportation-and-Mobility/TRANSPORTATION-markings_short_line/3p2i-pqdc)"
   ]
  },
  {
   "cell_type": "raw",
   "id": "6f1ab866-a50f-4186-b482-87d87972754a",
   "metadata": {},
   "source": [
    "aus.save('original_crosswalks', (gpd.read_file(P.data + 'raw/Austin Crosswalks.zip')\n",
    "                                 .query('short_line == \"CROSSWALK\"')\n",
    "                                 .explode(index_parts=True).reset_index()\n",
    "                                 .assign(signalized = lambda df: df['signal_int'] == 'Y')\n",
    "                                 .rename(columns={'crew_assig':'location', 'marking_si':'size'})\n",
    "                                 [['location','size','signalized','geometry']]\n",
    "                                 .reset_index(drop=True).rename_axis('id').to_crs(CRS_DEG)))"
   ]
  },
  {
   "cell_type": "markdown",
   "id": "dc13e54d-103e-4276-acdd-2f843b91922a",
   "metadata": {},
   "source": [
    "[**CAMBRIDGE**](https://www.cambridgema.gov/GIS/gisdatadictionary/Trans/TRANS_SidewalkCenterlines)"
   ]
  },
  {
   "cell_type": "raw",
   "id": "fa5d3695-c442-443e-858f-abb9e4f2734e",
   "metadata": {},
   "source": [
    "cam.save('crosswalks', (gpd.read_file(P.data + 'raw/Cambridge_TRANS_SidewalkCenterlines.shp.zip')\n",
    "                        .query('TYPE == \"CWALK-CL\"').reset_index()\n",
    "                        [['geometry']].rename_axis('id').to_crs(CRS_DEG)))"
   ]
  },
  {
   "cell_type": "markdown",
   "id": "108b4122-2429-4086-8d68-4c5eaa9f4db8",
   "metadata": {},
   "source": [
    "[**SEATTLE**](https://data-seattlecitygis.opendata.arcgis.com/datasets/SeattleCityGIS::marked-crosswalks/about)"
   ]
  },
  {
   "cell_type": "raw",
   "id": "aa8ec00b-377e-4b27-a625-3cee7e92e79c",
   "metadata": {},
   "source": [
    "sea.save('original_crosswalks', (gpd.read_file(P.data + 'raw/Seattle Marked_Crosswalks.zip')\n",
    "                                 .rename(columns={'CROSSWALK_':'kind', 'CONDITION':'condition'})\n",
    "                                 [['kind','condition','geometry']].rename_axis('id').to_crs(CRS_DEG)))"
   ]
  },
  {
   "cell_type": "markdown",
   "id": "ce22200f-6a27-467f-b802-7cd60c7bc998",
   "metadata": {},
   "source": [
    "[**TORONTO**](https://open.toronto.ca/dataset/pedestrian-network/)"
   ]
  },
  {
   "cell_type": "raw",
   "id": "4963a16c-6bae-4678-92e2-a5497927742d",
   "metadata": {},
   "source": [
    "%%time\n",
    "# t = 3s\n",
    "tor.save('crosswalks', (gpd.read_file(P.data + 'raw/Toronto Pedestrian Network 2019 - WGS84.zip')\n",
    "                        .query('crosswalk == 1').reset_index()\n",
    "                        .rename(columns={'cwalk_type':'kind'})[['road_type','kind','geometry']]\n",
    "                        .rename_axis('id').to_crs(CRS_DEG)))"
   ]
  },
  {
   "cell_type": "markdown",
   "id": "23220a04-c925-427e-83b1-796213c93a59",
   "metadata": {},
   "source": [
    "## Snap crosswalks to sidewalks"
   ]
  },
  {
   "cell_type": "markdown",
   "id": "34a66d82-c400-4e73-b86c-0c2a3700177a",
   "metadata": {},
   "source": [
    "**AUSTIN**"
   ]
  },
  {
   "cell_type": "raw",
   "id": "7aa06b1d-a75a-4bc7-a39f-ae6fc7fa5b4e",
   "metadata": {},
   "source": [
    "%%time\n",
    "# t = 13s\n",
    "sw = aus.load('sidewalks')\n",
    "sw_pts = Pdf([(*x.coords[0], *x.coords[-1]) for x in sw.geometry], columns=['x0','y0','x1','y1'])\n",
    "sw_pt_tree = KDTree(np.unique(np.vstack([sw_pts[['x0','y0']].values, sw_pts[['x1','y1']].values]), axis=0))"
   ]
  },
  {
   "cell_type": "raw",
   "id": "5d4ad2c4-e93d-4d54-ac6b-bbbfc70abb7b",
   "metadata": {},
   "source": [
    "xw = aus.load('original_crosswalks')\n",
    "xw['source'] = list(zip(*Arr(sw_pt_tree.data)[sw_pt_tree.query(Arr([x.coords[0] for x in xw.geometry]))[1].flatten()].T))\n",
    "xw['target'] = list(zip(*Arr(sw_pt_tree.data)[sw_pt_tree.query(Arr([x.coords[-1] for x in xw.geometry]))[1].flatten()].T))\n",
    "xw['geometry'] = gpd.GeoSeries([LineString(x) for x in zip(xw.pop('source'), xw.pop('target'))], crs=CRS_DEG)"
   ]
  },
  {
   "cell_type": "raw",
   "id": "81ab0093-5e4b-4f54-9a41-76f4b4c9f197",
   "metadata": {},
   "source": [
    "aus.save('crosswalks', xw)"
   ]
  },
  {
   "cell_type": "markdown",
   "id": "de0c534d-2e63-4015-a51c-e3866f845538",
   "metadata": {},
   "source": [
    "**SEATTLE** (**Not complete**)"
   ]
  },
  {
   "cell_type": "raw",
   "id": "96770958-f077-42e8-a1c9-707e6838c0b8",
   "metadata": {},
   "source": [
    "roads = sea.load('roads').disp()"
   ]
  },
  {
   "cell_type": "raw",
   "id": "90d74b2d-09bd-4100-93a1-f9f500dcb99b",
   "metadata": {},
   "source": [
    "sw = sea.load('sidewalks').disp()"
   ]
  },
  {
   "cell_type": "raw",
   "id": "f7ac0c57-2a4f-465b-b4a0-3b3b30a8dfa6",
   "metadata": {},
   "source": [
    "xw = sea.load('original_crosswalks').disp()"
   ]
  },
  {
   "cell_type": "raw",
   "id": "ab625fe2-dcc7-42ad-8805-605945fa4719",
   "metadata": {},
   "source": [
    "xw = xw.merge(Pdf(dict(zip(['id','road_id'], roads.sindex.nearest(xw.geometry, return_all=False)))), on='id').set_index('id').disp()"
   ]
  },
  {
   "cell_type": "raw",
   "id": "fc0e17e0-7a53-483d-ada4-867d446cdea7",
   "metadata": {},
   "source": [
    "Seq(list(set(itertools.chain(*[(x.coords[0], x.coords[-1]) for x in tqdm(sw.geometry)]))))"
   ]
  },
  {
   "cell_type": "raw",
   "id": "d0144a06-35ea-47e4-a93a-2bc19a03092a",
   "metadata": {},
   "source": [
    "xw.to_crs(CRS_M).buffer(30).to_crs(CRS_DEG)"
   ]
  },
  {
   "cell_type": "markdown",
   "id": "e6ce891c-6639-45f2-b028-e449a7440b85",
   "metadata": {},
   "source": [
    "---\n",
    "# Candidate crosswalks"
   ]
  },
  {
   "cell_type": "markdown",
   "id": "0577b1ec-a42d-436f-a285-811fadc96202",
   "metadata": {},
   "source": [
    "## Generate sidewalk endpoints"
   ]
  },
  {
   "cell_type": "code",
   "execution_count": 6,
   "id": "6fafaef5-8896-4bab-b6b2-d76e105d0f96",
   "metadata": {},
   "outputs": [
    {
     "name": "stdout",
     "output_type": "stream",
     "text": [
      "9,692 rows x 5 cols; Memory: 0.3 MiB\n"
     ]
    },
    {
     "data": {
      "text/html": [
       "<div>\n",
       "<style scoped>\n",
       "    .dataframe tbody tr th:only-of-type {\n",
       "        vertical-align: middle;\n",
       "    }\n",
       "\n",
       "    .dataframe tbody tr th {\n",
       "        vertical-align: top;\n",
       "    }\n",
       "\n",
       "    .dataframe thead th {\n",
       "        text-align: right;\n",
       "    }\n",
       "</style>\n",
       "<table border=\"1\" class=\"dataframe\">\n",
       "  <thead>\n",
       "    <tr style=\"text-align: right;\">\n",
       "      <th></th>\n",
       "      <th>sw_pt_id</th>\n",
       "      <th>sw_id</th>\n",
       "      <th>ixn_id</th>\n",
       "      <th>road_id</th>\n",
       "      <th>ixn_uid</th>\n",
       "    </tr>\n",
       "  </thead>\n",
       "  <tbody>\n",
       "    <tr>\n",
       "      <th></th>\n",
       "      <td>&lt;int32&gt;</td>\n",
       "      <td>&lt;int32&gt;</td>\n",
       "      <td>&lt;int32&gt;</td>\n",
       "      <td>&lt;int32&gt;</td>\n",
       "      <td>&lt;int32&gt;</td>\n",
       "    </tr>\n",
       "    <tr>\n",
       "      <th>0</th>\n",
       "      <td>2</td>\n",
       "      <td>283</td>\n",
       "      <td>0</td>\n",
       "      <td>1302</td>\n",
       "      <td>0</td>\n",
       "    </tr>\n",
       "    <tr>\n",
       "      <th>1</th>\n",
       "      <td>3</td>\n",
       "      <td>1031</td>\n",
       "      <td>0</td>\n",
       "      <td>2575</td>\n",
       "      <td>0</td>\n",
       "    </tr>\n",
       "    <tr>\n",
       "      <th>2</th>\n",
       "      <td>4</td>\n",
       "      <td>1031</td>\n",
       "      <td>0</td>\n",
       "      <td>2575</td>\n",
       "      <td>0</td>\n",
       "    </tr>\n",
       "  </tbody>\n",
       "</table>\n",
       "</div>"
      ],
      "text/plain": [
       "  sw_pt_id    sw_id   ixn_id  road_id  ixn_uid\n",
       "   <int32>  <int32>  <int32>  <int32>  <int32>\n",
       "0        2      283        0     1302        0\n",
       "1        3     1031        0     2575        0\n",
       "2        4     1031        0     2575        0"
      ]
     },
     "metadata": {},
     "output_type": "display_data"
    }
   ],
   "source": [
    "def make_candidate_xwalk_endpoints(city, buffer=20):\n",
    "    \"\"\"\n",
    "    Generate a list of sidewalk endpoints within road intersections that will \n",
    "    then be used to generate pair-wise combinations.\n",
    "    \"\"\"\n",
    "    # load base layers\n",
    "    roads = (city.load('roads').dropna(subset='geometry')\n",
    "             .explode(index_parts=True).reset_index(drop=True).rename_axis('road_id'))\n",
    "    sw = city.load('sidewalks')\n",
    "    xw = city.load('crosswalks')\n",
    "    # find intersections (as road endpoints)\n",
    "    ixns = Pdf([dict(zip(['src','trg'], [x.coords[0], x.coords[-1]])) for x \n",
    "                in roads.geometry]).assign(road_id=roads.index)\n",
    "    ixns = (ixns.melt('road_id').groupby('value')['road_id'].agg([list, 'count']).query('count > 1')\n",
    "            .rename_axis('xy')['list'].rename('road_id').reset_index().rename_axis('ixn_id'))\n",
    "    ixns = Gdf(ixns.assign(geometry=gpd.GeoSeries([Point(x) for x in ixns.pop('xy')], crs=CRS_DEG)))\n",
    "    # create intersection buffers\n",
    "    ixn_buf = ixns.assign(geometry=ixns.to_crs(CRS_M).buffer(buffer).to_crs(CRS_DEG))\n",
    "    # sidewalk segments within intersection buffers\n",
    "    sw_in = (gpd.sjoin(sw.rename_axis('sw_id'), ixn_buf.reset_index()).drop(\n",
    "        columns='index_right').groupby('sw_id')['ixn_id'].agg(list).reset_index())\n",
    "    # both endpoints of sidewalks in buffer\n",
    "    df = sw.loc[sw_in['sw_id']].rename_axis('sw_id')\n",
    "    src, trg = zip(*[(x.coords[0], x.coords[-1]) for x in df.geometry])\n",
    "    df = pd.concat([Seq(src, index=df.index), Seq(trg, index=df.index)]).reset_index()\n",
    "    df = df.groupby(0)['sw_id'].agg(list).rename_axis('xy').reset_index().rename_axis('sw_pt_id')\n",
    "    sw_in_pts = Gdf(df.assign(geometry=gpd.GeoSeries([Point(x) for x in df.pop('xy')], crs=CRS_DEG)))\n",
    "    # map sidewalk endpoint to intersection\n",
    "    sw_pt2ixn = gpd.sjoin(sw_in_pts, ixn_buf.reset_index())['ixn_id'].reset_index()\n",
    "    # sidewalk endpoints within intersections\n",
    "    sw_pts_in = gpd.sjoin(sw_in_pts, ixn_buf).drop(columns='index_right')\n",
    "    # assign sidewalks to nearest roads\n",
    "    sw2road = (sw_in.explode('ixn_id').merge(ixns[['road_id']], on='ixn_id').explode('road_id')\n",
    "               .merge(sw_in_pts.explode('sw_id')['sw_id'].reset_index(), on='sw_id'))\n",
    "    sw2road['dist'] = (sw_in_pts.to_crs(CRS_M).loc[sw2road['sw_pt_id'], 'geometry'].distance(\n",
    "        roads.to_crs(CRS_M).loc[sw2road['road_id'], 'geometry'], align=False).values)\n",
    "    sw2road = (sw2road.groupby(['sw_id','road_id'])['dist'].mean().reset_index().sort_values('dist')\n",
    "           .groupby('sw_id').head(1).reset_index()[['sw_id','road_id']])\n",
    "    # get attributes of each candidate crosswalk endpoint (nearest road, swalk & intersection)\n",
    "    xw_pts = (sw_in_pts.explode('sw_id')['sw_id'].reset_index()\n",
    "              .merge(sw_in, on='sw_id')\n",
    "              .merge(sw2road, on='sw_id').explode('ixn_id')\n",
    "              .merge(ixns['road_id'].rename('rid2'), on='ixn_id').explode('rid2')\n",
    "              .merge(sw_pts_in.reset_index()[['sw_pt_id']], on='sw_pt_id')\n",
    "              .query('road_id == rid2').reset_index(drop=True)\n",
    "              .merge(sw_pt2ixn.rename(columns={'ixn_id':'ixn_uid'}), on='sw_pt_id')\n",
    "              .drop(columns='rid2').astype(np.int32))\n",
    "    return sw_in_pts, xw_pts\n",
    "\n",
    "sw_pts, candi_pts = make_candidate_xwalk_endpoints(cam)\n",
    "candi_pts.disp(3); pass"
   ]
  },
  {
   "cell_type": "markdown",
   "id": "2c19b7c8-f11d-4cd5-a017-9c78e6097351",
   "metadata": {},
   "source": [
    "## Create eligible endpoint combinations"
   ]
  },
  {
   "cell_type": "raw",
   "id": "0000daba-e0ed-4351-9bc8-cb912ff5468f",
   "metadata": {},
   "source": [
    "from shutil import copy"
   ]
  },
  {
   "cell_type": "raw",
   "id": "8b30f070-644b-4071-80d1-0de1c2daf694",
   "metadata": {},
   "source": [
    "for c in [aus, cam, tor]:\n",
    "    for layer in ['acs','land_use','']"
   ]
  },
  {
   "cell_type": "code",
   "execution_count": 7,
   "id": "f4e25d3c-642c-44a4-9e07-0758b46907e1",
   "metadata": {},
   "outputs": [],
   "source": [
    "def make_xwalk_combinations(grp_pair):\n",
    "    ixn_id, df = grp_pair\n",
    "    return (df.merge(df, how='cross').query(' and '.join([\n",
    "        'sw_pt_id_x != sw_pt_id_y',\n",
    "        'sw_id_x != sw_id_y',\n",
    "        'road_id_x == road_id_y',\n",
    "        'ixn_uid_x == ixn_uid_y'\n",
    "    ])).rename(columns={'ixn_id_x': 'ixn_id', 'road_id_x': 'road_id'})\n",
    "            .drop(columns=['ixn_id_y', 'ixn_uid_x', 'ixn_uid_y', 'road_id_y']))"
   ]
  },
  {
   "cell_type": "code",
   "execution_count": 8,
   "id": "6935aece-3ddd-4c05-999b-8e9e175559f9",
   "metadata": {},
   "outputs": [
    {
     "data": {
      "application/vnd.jupyter.widget-view+json": {
       "model_id": "253a190bbbcd418eacdc39dc85f1f586",
       "version_major": 2,
       "version_minor": 0
      },
      "text/plain": [
       "QUEUEING TASKS | :   0%|          | 0/1205 [00:00<?, ?it/s]"
      ]
     },
     "metadata": {},
     "output_type": "display_data"
    },
    {
     "data": {
      "application/vnd.jupyter.widget-view+json": {
       "model_id": "60dc919de0a04eeaa66dadcae5e94069",
       "version_major": 2,
       "version_minor": 0
      },
      "text/plain": [
       "PROCESSING TASKS | :   0%|          | 0/1205 [00:00<?, ?it/s]"
      ]
     },
     "metadata": {},
     "output_type": "display_data"
    },
    {
     "data": {
      "application/vnd.jupyter.widget-view+json": {
       "model_id": "4ba42fff8630452996073fc2be561286",
       "version_major": 2,
       "version_minor": 0
      },
      "text/plain": [
       "COLLECTING RESULTS | :   0%|          | 0/1205 [00:00<?, ?it/s]"
      ]
     },
     "metadata": {},
     "output_type": "display_data"
    },
    {
     "name": "stdout",
     "output_type": "stream",
     "text": [
      "733 rows x 8 cols; Memory: 0.0 MiB; CRS: EPSG:4326\n"
     ]
    },
    {
     "data": {
      "text/html": [
       "<div>\n",
       "<style scoped>\n",
       "    .dataframe tbody tr th:only-of-type {\n",
       "        vertical-align: middle;\n",
       "    }\n",
       "\n",
       "    .dataframe tbody tr th {\n",
       "        vertical-align: top;\n",
       "    }\n",
       "\n",
       "    .dataframe thead th {\n",
       "        text-align: right;\n",
       "    }\n",
       "</style>\n",
       "<table border=\"1\" class=\"dataframe\">\n",
       "  <thead>\n",
       "    <tr style=\"text-align: right;\">\n",
       "      <th></th>\n",
       "      <th>sw_pt_id_x</th>\n",
       "      <th>sw_id_x</th>\n",
       "      <th>ixn_id</th>\n",
       "      <th>road_id</th>\n",
       "      <th>sw_pt_id_y</th>\n",
       "      <th>sw_id_y</th>\n",
       "      <th>geometry</th>\n",
       "      <th>len</th>\n",
       "    </tr>\n",
       "  </thead>\n",
       "  <tbody>\n",
       "    <tr>\n",
       "      <th>id</th>\n",
       "      <td>&lt;int32&gt;</td>\n",
       "      <td>&lt;int32&gt;</td>\n",
       "      <td>&lt;int32&gt;</td>\n",
       "      <td>&lt;int32&gt;</td>\n",
       "      <td>&lt;int32&gt;</td>\n",
       "      <td>&lt;int32&gt;</td>\n",
       "      <td>&lt;geometry&gt;</td>\n",
       "      <td>&lt;float64&gt;</td>\n",
       "    </tr>\n",
       "    <tr>\n",
       "      <th>0</th>\n",
       "      <td>3009</td>\n",
       "      <td>10789</td>\n",
       "      <td>1035</td>\n",
       "      <td>1329</td>\n",
       "      <td>3002</td>\n",
       "      <td>10740</td>\n",
       "      <td>LINESTRING (-71.105623 42.359573, -71.105642 4...</td>\n",
       "      <td>3.459243</td>\n",
       "    </tr>\n",
       "  </tbody>\n",
       "</table>\n",
       "</div>"
      ],
      "text/plain": [
       "   sw_pt_id_x  sw_id_x   ixn_id  road_id sw_pt_id_y  sw_id_y  \\\n",
       "id    <int32>  <int32>  <int32>  <int32>    <int32>  <int32>   \n",
       "0        3009    10789     1035     1329       3002    10740   \n",
       "\n",
       "                                             geometry        len  \n",
       "id                                         <geometry>  <float64>  \n",
       "0   LINESTRING (-71.105623 42.359573, -71.105642 4...   3.459243  "
      ]
     },
     "metadata": {},
     "output_type": "display_data"
    },
    {
     "name": "stdout",
     "output_type": "stream",
     "text": [
      "CPU times: user 1.75 s, sys: 711 ms, total: 2.46 s\n",
      "Wall time: 2.4 s\n"
     ]
    }
   ],
   "source": [
    "def make_candidate_xwalk_segments(sw_pts, candi_pts, roads, xwalks):\n",
    "    # generate crosswalk combinations from eligible sidewalk endpoints\n",
    "    combs = (pd.concat(pqdm(candi_pts.groupby('ixn_id'), make_xwalk_combinations,\n",
    "                            n_jobs=40, total=candi_pts['ixn_id'].nunique()))\n",
    "             .reset_index(drop=True))\n",
    "    # create candidate crosswalk linestrings from sidewalk endpoint pairs\n",
    "    xw = (combs.merge(sw_pts['geometry'].rename('src').rename_axis('sw_pt_id_x').reset_index())\n",
    "          .merge(sw_pts['geometry'].rename('trg').rename_axis('sw_pt_id_y').reset_index()))\n",
    "    xw['geometry'] = gpd.GeoSeries([LineString(x) for x in zip(xw['src'], xw['trg'])])\n",
    "    xw = Gdf(xw, crs=CRS_DEG).assign(**{c: xw[c].apply(lambda x: x.coords[0]) for c in ['src','trg']})\n",
    "    # filter candidates that intersect their road and get their endpoints\n",
    "    xw = xw[xw.geometry.intersects(roads.loc[xw['road_id'], 'geometry'], align=False)]\n",
    "    # identify and remove existing crosswalks from the candidates\n",
    "    xwalks = Pdf([dict(zip(['src','trg'], [x.coords[0], x.coords[-1]])) for x in xwalks.geometry])\n",
    "    common_xw_ids = pd.concat([\n",
    "        xw.reset_index().merge(xwalks, on=('src','trg'))['index'],\n",
    "        xw.reset_index().merge(xwalks, left_on=('src','trg'), right_on=('trg','src'))['index']\n",
    "    ]).drop_duplicates().values\n",
    "    xw = xw.loc[list(set(xw.index) - set(common_xw_ids))].drop(columns=['src','trg']).rename_axis('id')\n",
    "    # find the shortest crosswalk segment at each interesection leg\n",
    "    xw['len'] = xw.to_crs(CRS_M).geometry.length\n",
    "    xw = xw.loc[xw.sort_values('len').groupby(['ixn_id','road_id']).head(1).reset_index()['id']]\n",
    "    return xw.reset_index(drop=True).rename_axis('id')\n",
    "    \n",
    "%time make_candidate_xwalk_segments(sw_pts, candi_pts, cam.roads, cam.crosswalks).disp(); pass"
   ]
  },
  {
   "cell_type": "markdown",
   "id": "2a8e31e1-f2e9-40f5-8b1b-0ef36873ddea",
   "metadata": {},
   "source": [
    "## Overall"
   ]
  },
  {
   "cell_type": "code",
   "execution_count": 9,
   "id": "d018fcd1-229a-4554-800c-933f32cf2df5",
   "metadata": {},
   "outputs": [],
   "source": [
    "def make_candidate_xwalks(city, save=True):\n",
    "    sw_pts, candi_pts = make_candidate_xwalk_endpoints(city)\n",
    "    roads, cur_xwalks = city.load('roads'), city.load('crosswalks')\n",
    "    candi = make_candidate_xwalk_segments(sw_pts, candi_pts, roads, cur_xwalks)\n",
    "    if save:\n",
    "        city.save('candidate_crosswalks', candi)\n",
    "    return candi"
   ]
  },
  {
   "cell_type": "markdown",
   "id": "2aec6aab-5f3c-4188-a6ef-f7803042a015",
   "metadata": {},
   "source": [
    "**AUSTIN**"
   ]
  },
  {
   "cell_type": "raw",
   "id": "d3ee19b4-d191-487b-93dd-7e3b9babe603",
   "metadata": {},
   "source": [
    "%time make_candidate_xwalks(aus) # t = 1min 35s"
   ]
  },
  {
   "cell_type": "markdown",
   "id": "59910966-aba1-4f20-b2ad-dc1b41faeb5c",
   "metadata": {},
   "source": [
    "**CAMBRIDGE**"
   ]
  },
  {
   "cell_type": "raw",
   "id": "698c4998-97dd-4c0e-8b35-5766575054e5",
   "metadata": {},
   "source": [
    "%time make_candidate_xwalks(cam) # t = 5s"
   ]
  },
  {
   "cell_type": "markdown",
   "id": "979d824f-c8ac-45be-8a3a-cc6f02c44002",
   "metadata": {},
   "source": [
    "**TORONTO**"
   ]
  },
  {
   "cell_type": "raw",
   "id": "3dfb748a-1e59-4d42-bb9d-94a5e1211d59",
   "metadata": {},
   "source": [
    "%time make_candidate_xwalks(tor) # t = 51s"
   ]
  },
  {
   "cell_type": "markdown",
   "id": "d052693a-69a4-45e6-9725-f997fd9d67ee",
   "metadata": {},
   "source": [
    "---\n",
    "# Base pednet"
   ]
  },
  {
   "cell_type": "code",
   "execution_count": 10,
   "id": "adc573fe-bb0f-424d-899f-eb77248549f5",
   "metadata": {},
   "outputs": [],
   "source": [
    "def create_base_pednet(city, save=True):\n",
    "    sw = city.load('sidewalks').rename_axis('orig_id').assign(is_xwalk=False)\n",
    "    if 'exists' not in sw.columns: sw['exists'] = True\n",
    "    xw = city.load('crosswalks').rename_axis('orig_id').assign(is_xwalk=True, exists=True)\n",
    "    candi = (city.load('candidate_crosswalks')[['geometry']].rename_axis('orig_id')\n",
    "             .assign(is_xwalk=True, exists=False))\n",
    "    E = pd.concat([sw.reset_index(), xw.reset_index(), candi.reset_index()])\n",
    "    E['len'] = E.to_crs(CRS_M).geometry.length\n",
    "    E = E[E['len'] > 0].reset_index(drop=True).rename_axis('eid').reset_index()\n",
    "    E['src'], E['trg'] = zip(*[(x.coords[0], x.coords[-1]) for x in tqdm(E.geometry)])\n",
    "    V = Seq(list(set(E['src']) | set(E['trg'])), name='xy').rename_axis('vid').reset_index()\n",
    "    E = E.merge(V.rename(columns={'vid':'src_vid', 'xy':'src'}))\n",
    "    E = E.merge(V.rename(columns={'vid':'trg_vid', 'xy':'trg'}))\n",
    "    E = E.drop(columns=['src','trg']).set_index('eid').sort_index()\n",
    "    E = E.astype({'src_vid': np.int32, 'trg_vid': np.int32, 'len': np.float32})\n",
    "    V['geometry'] = gpd.GeoSeries([Point(x) for x in V['xy']], crs=CRS_DEG)\n",
    "    V['x'], V['y'] = zip(*V['xy'])\n",
    "    V = Gdf(V.set_index('vid'))[['x','y','geometry']]\n",
    "    if save:\n",
    "        city.save('full_pednet_nodes', V)\n",
    "        city.save('full_pednet_edges', E)\n",
    "    return V, E\n",
    "\n",
    "# %time x = create_base_pednet(aus); x"
   ]
  },
  {
   "cell_type": "markdown",
   "id": "6b979e7d-9efd-4f9d-ac2f-37d8cd7c73f9",
   "metadata": {},
   "source": [
    "**AUSTIN**"
   ]
  },
  {
   "cell_type": "raw",
   "id": "af68465e-7fe3-4677-84c9-baf7c48f6456",
   "metadata": {},
   "source": [
    "%time aus.V, aus.E = create_base_pednet(aus) # t = 32s"
   ]
  },
  {
   "cell_type": "markdown",
   "id": "7f9c4224-7ada-4128-b03e-8184c43d7976",
   "metadata": {},
   "source": [
    "**CAMBRIDGE**"
   ]
  },
  {
   "cell_type": "raw",
   "id": "d647f3f0-45a9-4885-bd85-fe0bef3dd87c",
   "metadata": {},
   "source": [
    "%time cam.V, cam.E = create_base_pednet(cam) # t = 2s"
   ]
  },
  {
   "cell_type": "markdown",
   "id": "ed27e558-7bb0-4cc4-a341-82bab3423d7f",
   "metadata": {},
   "source": [
    "**TORONTO**"
   ]
  },
  {
   "cell_type": "raw",
   "id": "c2443d62-65b3-4304-9456-17f244c9f90a",
   "metadata": {},
   "source": [
    "%time tor.V, tor.E = create_base_pednet(tor) # t = 7s"
   ]
  },
  {
   "cell_type": "code",
   "execution_count": null,
   "id": "84dfbd3e-57ec-4779-ad39-4d6147d9929a",
   "metadata": {},
   "outputs": [],
   "source": []
  }
 ],
 "metadata": {
  "kernelspec": {
   "display_name": "Python 3 (ipykernel)",
   "language": "python",
   "name": "python3"
  },
  "language_info": {
   "codemirror_mode": {
    "name": "ipython",
    "version": 3
   },
   "file_extension": ".py",
   "mimetype": "text/x-python",
   "name": "python",
   "nbconvert_exporter": "python",
   "pygments_lexer": "ipython3",
   "version": "3.9.7"
  },
  "toc-autonumbering": true
 },
 "nbformat": 4,
 "nbformat_minor": 5
}
