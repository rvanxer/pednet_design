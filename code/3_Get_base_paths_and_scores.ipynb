{
 "cells": [
  {
   "cell_type": "markdown",
   "id": "1751a27b-ba85-4e17-97a3-75dd614de6de",
   "metadata": {},
   "source": [
    "# Setup"
   ]
  },
  {
   "cell_type": "code",
   "execution_count": 1,
   "id": "1e68a85f-6b89-4d95-a93a-a1505a1922b8",
   "metadata": {},
   "outputs": [],
   "source": [
    "from setup import *"
   ]
  },
  {
   "cell_type": "code",
   "execution_count": 2,
   "id": "ce558adb-cbb5-4b80-8224-9f4981415da5",
   "metadata": {},
   "outputs": [],
   "source": [
    "from pqdm.processes import pqdm"
   ]
  },
  {
   "cell_type": "code",
   "execution_count": 3,
   "outputs": [],
   "source": [
    "import pqdm"
   ],
   "metadata": {
    "collapsed": false
   }
  },
  {
   "cell_type": "code",
   "execution_count": 3,
   "id": "71813e7e-9f5b-4eaa-bbba-7f8490fe5481",
   "metadata": {},
   "outputs": [],
   "source": [
    "aus = City('Austin, TX')\n",
    "cam = City('Cambridge, MA')\n",
    "tor = City('City of Toronto', 'Toronto')"
   ]
  },
  {
   "cell_type": "code",
   "execution_count": 4,
   "id": "d0069f31-9364-4996-80c0-75980fedf9a0",
   "metadata": {},
   "outputs": [],
   "source": [
    "cities = [cam, tor, aus]"
   ]
  },
  {
   "cell_type": "markdown",
   "id": "26aa6911-bf6c-49cc-a851-1b69d36838f0",
   "metadata": {},
   "source": [
    "---\n",
    "# Create pednet variants"
   ]
  },
  {
   "cell_type": "code",
   "execution_count": 5,
   "id": "1b4cb386-0f2c-4c13-8dbf-9ad40913f2b9",
   "metadata": {},
   "outputs": [],
   "source": [
    "od_fname = 'sample_OD_n1000000_seed1234_d800m'"
   ]
  },
  {
   "cell_type": "code",
   "execution_count": 6,
   "id": "4e564380-0972-40f0-9c67-c55ba0ffedb6",
   "metadata": {},
   "outputs": [
    {
     "data": {
      "text/plain": "  0%|          | 0/10 [00:00<?, ?it/s]",
      "application/vnd.jupyter.widget-view+json": {
       "version_major": 2,
       "version_minor": 0,
       "model_id": "95ec8d11c5ce4c7aa81bf84de2fb775a"
      },
      "application/json": {
       "n": 0,
       "total": 10,
       "elapsed": 0.014689207077026367,
       "ncols": null,
       "nrows": null,
       "prefix": "",
       "ascii": false,
       "unit": "it",
       "unit_scale": false,
       "rate": null,
       "bar_format": null,
       "postfix": null,
       "unit_divisor": 1000,
       "initial": 0,
       "colour": null
      }
     },
     "metadata": {},
     "output_type": "display_data"
    },
    {
     "name": "stdout",
     "output_type": "stream",
     "text": [
      "CPU times: user 16.5 s, sys: 1.39 s, total: 17.9 s\n",
      "Wall time: 20.1 s\n"
     ]
    }
   ],
   "source": [
    "%%time\n",
    "# t = 22s\n",
    "pns = [Pednet(*params, od_fname) for params in tqdm([\n",
    "    # Cambridge\n",
    "    (cam, 'exists', 'current'),\n",
    "    (cam, 'exists or is_xwalk', 'crosswalks'),\n",
    "    # Austin\n",
    "    (aus, 'exists', 'current'),\n",
    "    (aus, 'exists or ~is_xwalk', 'sidewalks'),\n",
    "    (aus, 'exists or is_xwalk', 'crosswalks'),\n",
    "    (aus, None, 'both'),\n",
    "    # Toronto\n",
    "    (tor, 'exists', 'current'),\n",
    "    (tor, 'exists or ~is_xwalk', 'sidewalks'),\n",
    "    (tor, 'exists or is_xwalk', 'crosswalks'),\n",
    "    (tor, None, 'both'),\n",
    "])]\n",
    "for c in cities:\n",
    "    c.pn = {pn.name: pn for pn in pns if pn.city == c}"
   ]
  },
  {
   "cell_type": "markdown",
   "id": "5d75454c-4708-4f1a-82ac-a3b9adf548d7",
   "metadata": {},
   "source": [
    "## Get edge betweenness"
   ]
  },
  {
   "cell_type": "code",
   "execution_count": 7,
   "id": "2998d314-c3bd-4b74-b83e-7fc8bcb55983",
   "metadata": {},
   "outputs": [],
   "source": [
    "def get_edge_bwness(pn):\n",
    "    pn.E['bwness'] = pn.G.edge_betweenness(False, weights=pn.E['len'])\n",
    "    pn.E.to_pickle(U.mkdir(pn.city.root + 'edges/') + f'{pn.name}.pickle')\n",
    "    \n",
    "# %time x = get_edge_bwness(pns[4]); x"
   ]
  },
  {
   "cell_type": "code",
   "execution_count": 8,
   "id": "aa85f5a0-f4a2-41df-b2a0-3ec6d2174fa0",
   "metadata": {},
   "outputs": [],
   "source": [
    "# total time: 8h 10min\n",
    "# {Cambridge: 20s, Austin: 4h 51min + some more time, Toronto: 1h 31min + some more time}\n",
    "# %time for c in tqdm([cam, aus, tor]): print(c); get_edge_bwness(c)"
   ]
  },
  {
   "cell_type": "code",
   "execution_count": 9,
   "id": "ccd8dfe1-cc61-4f4c-86f1-a6bc298964c6",
   "metadata": {},
   "outputs": [],
   "source": [
    "for pn in pns:\n",
    "    pn.E = pd.read_pickle(pn.city.root + f'edges/{pn.name}.pickle')"
   ]
  },
  {
   "cell_type": "markdown",
   "id": "2fd20268-ada6-43b3-a844-2f5451951086",
   "metadata": {},
   "source": [
    "---\n",
    "# Get shortest paths"
   ]
  },
  {
   "cell_type": "markdown",
   "id": "3e66aac5-599b-4c49-ba8e-6515e7d59ad6",
   "metadata": {},
   "source": [
    "## Define shortest path functions for `pqdm`"
   ]
  },
  {
   "cell_type": "markdown",
   "id": "1c6562c4-03ae-48db-a599-f1307f62ab30",
   "metadata": {},
   "source": [
    "### New (per pednet)"
   ]
  },
  {
   "cell_type": "code",
   "execution_count": 10,
   "id": "8942a6ef-95fb-4c7c-81b2-eb735b7bcc99",
   "metadata": {},
   "outputs": [],
   "source": [
    "func_template = 'def sp_{}_{}(o, d): return pns[{}].get_sp(o, d)'\n",
    "for i, pn in enumerate(pns):\n",
    "    exec(func_template.format(pn.city.name, pn.name, i))"
   ]
  },
  {
   "cell_type": "markdown",
   "id": "7442efd2-4593-4185-bea1-322a8fec83bd",
   "metadata": {},
   "source": [
    "## Compute shortest paths"
   ]
  },
  {
   "cell_type": "code",
   "execution_count": 11,
   "id": "2b18f1a2-9a38-454b-88e5-96e54748a6b9",
   "metadata": {},
   "outputs": [],
   "source": [
    "def get_shortest_path(pn, n_jobs=30, save=True):\n",
    "    # filter unique connected OD pairs\n",
    "    od = (pn.od.groupby(['vid_o','vid_d'])['n_ods'].sum().reset_index()\n",
    "          .merge(pn.V['cid'].rename('cid_o'), left_on='vid_o', right_index=True)\n",
    "          .merge(pn.V['cid'].rename('cid_d'), left_on='vid_d', right_index=True)\n",
    "          .query('cid_o == cid_d').drop(columns=['cid_o','cid_d']))\n",
    "    func = globals()[f'sp_{pn.city.name}_{pn.name}']\n",
    "    sp = pqdm(zip(od['vid_o'], od['vid_d']), func, n_jobs=n_jobs,\n",
    "              total=od.shape[0], argument_type='args')\n",
    "    try:\n",
    "        sp = (od.merge(Pdf(sp), on=('vid_o','vid_d'))\n",
    "              .sort_values(['vid_o','vid_d']).reset_index(drop=True))\n",
    "        if save:\n",
    "            outdir = U.mkdir(pn.city.root + 'paths/')\n",
    "            sp.to_pickle(outdir + '{}_{}od.pickle'.format(\n",
    "                pn.name, pn.od['n_ods'].sum()))\n",
    "    except Exception as e:\n",
    "        print(e)\n",
    "        return sp\n",
    "    return sp\n",
    "\n",
    "# %time x = get_shortest_path(tor.pn[0]); x"
   ]
  },
  {
   "cell_type": "raw",
   "id": "238abe8e-1065-440f-8aab-b0e3aceeea92",
   "metadata": {},
   "source": [
    "# total time: 4h 59min\n",
    "# Cambridge (heavily loaded TNET): {current->2min 59s, crosswalks->3min 9s}\n",
    "# Toronto (UMNI-2): {current->9min 7s, sidewalks->15min 43s, crosswalks->9min 37s, both->16min 24s}\n",
    "# Austin (UMNI-5): {current->28min 9s, sidewalks->1h 8min, crosswalks->1h 19min, both->2h 25min}\n",
    "for pn in pns:\n",
    "    print(pn)\n",
    "    %time get_shortest_path(pn, n_jobs=60)"
   ]
  },
  {
   "cell_type": "markdown",
   "id": "640e1bf1-2520-4362-ae2e-e0257ca9c9da",
   "metadata": {},
   "source": [
    "## Compute edge weight (volume)"
   ]
  },
  {
   "cell_type": "code",
   "execution_count": 12,
   "id": "310e3f67-24a9-4e18-ad37-2fcfa4ea6c19",
   "metadata": {},
   "outputs": [],
   "source": [
    "def get_edge_weights(pn):\n",
    "    # od = pn.od.groupby(['vid_o','vid_d'])['n_ods'].sum().reset_index()\n",
    "    E = (pd.read_pickle(glob(pn.city.root + f'edges/*{pn.name.lower()}.pickle')[0])\n",
    "         .drop(columns='n_trips', errors='ignore'))\n",
    "    pn.sp = pd.read_pickle(glob(pn.city.root + f'paths/{pn.name}*.pickle')[0])\n",
    "    sp = (pn.sp.set_index('n_ods')['edges'].rename('id').explode().reset_index()\n",
    "          .groupby('id')['n_ods'].sum().rename('n_trips').reset_index())\n",
    "    E = E.merge(sp, on='id', how='left').fillna({'n_trips': 0})\n",
    "    pn.E = E.astype({'n_trips': int})\n",
    "    \n",
    "# %time x = get_edge_weights(pns[4]); x"
   ]
  },
  {
   "cell_type": "raw",
   "id": "50620501-4620-459e-83ce-87dac050cd2c",
   "metadata": {},
   "source": [
    "%time for pn in tqdm(pns): get_edge_weights(pn) # t = 1min 30s"
   ]
  },
  {
   "cell_type": "markdown",
   "id": "6d945cbf-1be8-4d17-b66a-e59cf8a5890d",
   "metadata": {},
   "source": [
    "## Pednet score"
   ]
  },
  {
   "cell_type": "raw",
   "id": "df87a75e-5e9d-4842-be2b-5689f0197b01",
   "metadata": {},
   "source": [
    "for pn in pns:\n",
    "    pn.E['pedscore'] = np.log10(1 + pn.E['n_trips'] * pn.E['bwness'])"
   ]
  },
  {
   "cell_type": "markdown",
   "id": "b6cdb192-bfcc-484e-9a12-3746c051c79f",
   "metadata": {},
   "source": [
    "## Export edges"
   ]
  },
  {
   "cell_type": "raw",
   "id": "5290debc-5582-4631-9715-291d4b056e6f",
   "metadata": {},
   "source": [
    "%%time\n",
    "# t = 12s\n",
    "for pn in tqdm(pns):\n",
    "    pn.E.to_pickle(U.mkdir(pn.city.root + 'edges/') + f'{pn.name}.pickle')"
   ]
  },
  {
   "cell_type": "code",
   "execution_count": 12,
   "id": "cc0bcd03-23c3-42c0-b75d-8cdb26181d48",
   "metadata": {},
   "outputs": [],
   "source": []
  }
 ],
 "metadata": {
  "kernelspec": {
   "display_name": "Python 3 (ipykernel)",
   "language": "python",
   "name": "python3"
  },
  "language_info": {
   "codemirror_mode": {
    "name": "ipython",
    "version": 3
   },
   "file_extension": ".py",
   "mimetype": "text/x-python",
   "name": "python",
   "nbconvert_exporter": "python",
   "pygments_lexer": "ipython3",
   "version": "3.9.7"
  },
  "toc-autonumbering": true
 },
 "nbformat": 4,
 "nbformat_minor": 5
}
