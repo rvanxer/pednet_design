{
 "cells": [
  {
   "cell_type": "markdown",
   "id": "1751a27b-ba85-4e17-97a3-75dd614de6de",
   "metadata": {},
   "source": [
    "# Setup"
   ]
  },
  {
   "cell_type": "code",
   "execution_count": 1,
   "id": "74d9463f-1fef-412d-bad8-3584e8f5d557",
   "metadata": {
    "tags": []
   },
   "outputs": [
    {
     "name": "stdout",
     "output_type": "stream",
     "text": [
      "/home/umni2/a/umnilab/users/verma99/mk/pednet_design/code\n"
     ]
    }
   ],
   "source": [
    "!pwd"
   ]
  },
  {
   "cell_type": "code",
   "execution_count": 2,
   "id": "87b82511-6f96-4a90-b882-5ea648160505",
   "metadata": {},
   "outputs": [],
   "source": [
    "from mobilkit.umni import *\n",
    "from setup import P, City, Pednet"
   ]
  },
  {
   "cell_type": "code",
   "execution_count": 3,
   "id": "ce558adb-cbb5-4b80-8224-9f4981415da5",
   "metadata": {
    "tags": []
   },
   "outputs": [],
   "source": [
    "from igraph import Graph\n",
    "from pqdm.processes import pqdm"
   ]
  },
  {
   "cell_type": "code",
   "execution_count": 4,
   "id": "71813e7e-9f5b-4eaa-bbba-7f8490fe5481",
   "metadata": {
    "tags": []
   },
   "outputs": [],
   "source": [
    "aus = City('Austin, TX')\n",
    "cam = City('Cambridge, MA')\n",
    "tor = City('City of Toronto, Ontario', 'Toronto')"
   ]
  },
  {
   "cell_type": "code",
   "execution_count": 5,
   "id": "d0069f31-9364-4996-80c0-75980fedf9a0",
   "metadata": {
    "tags": []
   },
   "outputs": [],
   "source": [
    "cities = [cam, tor, aus]"
   ]
  },
  {
   "cell_type": "markdown",
   "id": "26aa6911-bf6c-49cc-a851-1b69d36838f0",
   "metadata": {},
   "source": [
    "---\n",
    "# Create pednet variants"
   ]
  },
  {
   "cell_type": "code",
   "execution_count": 6,
   "id": "1b4cb386-0f2c-4c13-8dbf-9ad40913f2b9",
   "metadata": {
    "tags": []
   },
   "outputs": [],
   "source": [
    "od_sample = 's1'"
   ]
  },
  {
   "cell_type": "code",
   "execution_count": 7,
   "id": "4e564380-0972-40f0-9c67-c55ba0ffedb6",
   "metadata": {
    "tags": []
   },
   "outputs": [
    {
     "data": {
      "application/vnd.jupyter.widget-view+json": {
       "model_id": "a92b72c2762744a8a64f79e475f0dd49",
       "version_major": 2,
       "version_minor": 0
      },
      "text/plain": [
       "  0%|          | 0/10 [00:00<?, ?it/s]"
      ]
     },
     "metadata": {},
     "output_type": "display_data"
    },
    {
     "name": "stdout",
     "output_type": "stream",
     "text": [
      "CPU times: user 23.3 s, sys: 3.48 s, total: 26.7 s\n",
      "Wall time: 25.8 s\n"
     ]
    }
   ],
   "source": [
    "%%time\n",
    "# t=0:25    \n",
    "pns = [Pednet(*params, od_sample) for params in tqdm([\n",
    "    # Cambridge\n",
    "    (cam, 'exists', 'current'),\n",
    "    (cam, 'exists or is_xwalk', 'crosswalks'),\n",
    "    # Austin\n",
    "    (aus, 'exists', 'current'),\n",
    "    (aus, 'exists or ~is_xwalk', 'sidewalks'),\n",
    "    (aus, 'exists or is_xwalk', 'crosswalks'),\n",
    "    (aus, None, 'both'),\n",
    "    # Toronto\n",
    "    (tor, 'exists', 'current'),\n",
    "    (tor, 'exists or ~is_xwalk', 'sidewalks'),\n",
    "    (tor, 'exists or is_xwalk', 'crosswalks'),\n",
    "    (tor, None, 'both'),\n",
    "])]\n",
    "for c in cities:\n",
    "    c.pn = {pn.name: pn for pn in pns if pn.city == c}"
   ]
  },
  {
   "cell_type": "markdown",
   "id": "5d75454c-4708-4f1a-82ac-a3b9adf548d7",
   "metadata": {},
   "source": [
    "## Get edge betweenness"
   ]
  },
  {
   "cell_type": "code",
   "execution_count": 8,
   "id": "2998d314-c3bd-4b74-b83e-7fc8bcb55983",
   "metadata": {
    "tags": []
   },
   "outputs": [],
   "source": [
    "def get_edge_bwness(pn):\n",
    "    pn.E['bwness'] = pn.G.edge_betweenness(False, weights=pn.E['len'])\n",
    "    pn.E.to_parquet(U.kmfile(pn.city.root + f'edges/{pn.name}.parquet'))\n",
    "    \n",
    "# %time x = get_edge_bwness(pns[4]); x"
   ]
  },
  {
   "cell_type": "code",
   "execution_count": 9,
   "id": "aa85f5a0-f4a2-41df-b2a0-3ec6d2174fa0",
   "metadata": {},
   "outputs": [],
   "source": [
    "# t~=8:10:00 {cambridge=>0:02, austin=>4:51:00+..., toronto=>1:31:00+...}\n",
    "# %time for c in tqdm([cam, aus, tor]): print(c); get_edge_bwness(c)"
   ]
  },
  {
   "cell_type": "markdown",
   "id": "2fd20268-ada6-43b3-a844-2f5451951086",
   "metadata": {},
   "source": [
    "---\n",
    "# Get shortest paths"
   ]
  },
  {
   "cell_type": "markdown",
   "id": "3e66aac5-599b-4c49-ba8e-6515e7d59ad6",
   "metadata": {},
   "source": [
    "## Define shortest path functions for `pqdm`"
   ]
  },
  {
   "cell_type": "markdown",
   "id": "1c6562c4-03ae-48db-a599-f1307f62ab30",
   "metadata": {},
   "source": [
    "### New (per pednet)"
   ]
  },
  {
   "cell_type": "code",
   "execution_count": 10,
   "id": "8942a6ef-95fb-4c7c-81b2-eb735b7bcc99",
   "metadata": {},
   "outputs": [],
   "source": [
    "func_template = 'def sp_{}_{}(o, d): return pns[{}].get_sp(o, d)'\n",
    "for i, pn in enumerate(pns):\n",
    "    exec(func_template.format(pn.city.name, pn.name, i))"
   ]
  },
  {
   "cell_type": "markdown",
   "id": "7442efd2-4593-4185-bea1-322a8fec83bd",
   "metadata": {},
   "source": [
    "## Compute shortest paths"
   ]
  },
  {
   "cell_type": "code",
   "execution_count": 25,
   "id": "2b18f1a2-9a38-454b-88e5-96e54748a6b9",
   "metadata": {},
   "outputs": [],
   "source": [
    "def get_shortest_path(pn, n_jobs=30, save=True, overwrite=False):\n",
    "    outfile = pn.city.root / f'paths/{pn.name}.parquet'\n",
    "    if outfile.exists() and not overwrite:\n",
    "        return pd.read_parquet(outfile)\n",
    "    # filter unique connected OD pairs\n",
    "    od = (pn.od.groupby(['vid_o','vid_d'])['n_ods'].sum().reset_index()\n",
    "          .merge(pn.V['cid'].rename('cid_o'), left_on='vid_o', right_index=True)\n",
    "          .merge(pn.V['cid'].rename('cid_d'), left_on='vid_d', right_index=True)\n",
    "          .query('cid_o == cid_d').drop(columns=['cid_o','cid_d']))\n",
    "    func = globals()[f'sp_{pn.city.name}_{pn.name}']\n",
    "    sp = pqdm(zip(od['vid_o'], od['vid_d']), func, n_jobs=n_jobs,\n",
    "              total=od.shape[0], argument_type='args')\n",
    "    try:\n",
    "        sp = (od.merge(Pdf(sp), on=('vid_o','vid_d'))\n",
    "              .sort_values(['vid_o','vid_d']).reset_index(drop=True))\n",
    "        if save:\n",
    "            sp.to_parquet(U.mkfile(outfile))\n",
    "    except Exception as e:\n",
    "        print(e)\n",
    "        return sp\n",
    "    return sp\n",
    "\n",
    "# %time x = get_shortest_path(cam.pn['current']); x"
   ]
  },
  {
   "cell_type": "code",
   "execution_count": 31,
   "id": "8b397a9c-b5c9-4665-87cb-6ac5ac33c85d",
   "metadata": {
    "tags": []
   },
   "outputs": [
    {
     "data": {
      "application/vnd.jupyter.widget-view+json": {
       "model_id": "e221d7426b5d41b5ac7487293ae3e290",
       "version_major": 2,
       "version_minor": 0
      },
      "text/plain": [
       "  0%|          | 0/10 [00:00<?, ?it/s]"
      ]
     },
     "metadata": {},
     "output_type": "display_data"
    },
    {
     "name": "stdout",
     "output_type": "stream",
     "text": [
      "CPU times: user 4.15 s, sys: 2.43 s, total: 6.57 s\n",
      "Wall time: 5.78 s\n"
     ]
    }
   ],
   "source": [
    "%%time\n",
    "# t=4:59:00 {A0=>28:09, A1=>1:08:00, A2=>1:19:00, A3=>2:25:00, C0=>2:59, C1=>3:09, T0=>9:07, T1=>15:43, T2=>9:37, T3=>16:24}\n",
    "for pn in tqdm(pns):\n",
    "    pn.sp = get_shortest_path(pn, n_jobs=60)"
   ]
  },
  {
   "cell_type": "markdown",
   "id": "640e1bf1-2520-4362-ae2e-e0257ca9c9da",
   "metadata": {},
   "source": [
    "## Compute edge weight (volume) & pednet score"
   ]
  },
  {
   "cell_type": "code",
   "execution_count": 38,
   "id": "310e3f67-24a9-4e18-ad37-2fcfa4ea6c19",
   "metadata": {},
   "outputs": [],
   "source": [
    "def get_pednet_score(pn, save=True, overwrite=False):\n",
    "    fpath = pn.city.root / f'edges/{pn.name}.parquet'\n",
    "    E = gpd.read_parquet(fpath)\n",
    "    if 'pedscore' in E.columns and not overwrite:\n",
    "        return E\n",
    "    E = E.drop(columns='n_trips', errors='ignore')\n",
    "    sp = (pn.sp.set_index('n_ods')['edges'].rename('id').explode().reset_index()\n",
    "          .groupby('id')['n_ods'].sum().rename('n_trips').reset_index())\n",
    "    E = E.merge(sp, on='id', how='left').fillna({'n_trips': 0})\n",
    "    E['pedscore'] = np.log10(1 + pn.E['n_trips'] * pn.E['bwness'])\n",
    "    pn.E = E.astype({'n_trips': int})\n",
    "    if save:\n",
    "        pd.E.to_parquet(fpath)\n",
    "    \n",
    "# %time x = get_pednet_score(cam.pn['current']); x"
   ]
  },
  {
   "cell_type": "code",
   "execution_count": 39,
   "id": "94d0951b-61c8-4ba8-bdfe-398a5e541a27",
   "metadata": {
    "tags": []
   },
   "outputs": [
    {
     "data": {
      "application/vnd.jupyter.widget-view+json": {
       "model_id": "9d53950c5eb84526af9d7441c1f32b87",
       "version_major": 2,
       "version_minor": 0
      },
      "text/plain": [
       "  0%|          | 0/10 [00:00<?, ?it/s]"
      ]
     },
     "metadata": {},
     "output_type": "display_data"
    },
    {
     "name": "stdout",
     "output_type": "stream",
     "text": [
      "CPU times: user 4.59 s, sys: 1.75 s, total: 6.34 s\n",
      "Wall time: 5.02 s\n"
     ]
    }
   ],
   "source": [
    "%time for pn in tqdm(pns): get_pednet_score(pn) # t = 1min 30s"
   ]
  },
  {
   "cell_type": "code",
   "execution_count": 12,
   "id": "cc0bcd03-23c3-42c0-b75d-8cdb26181d48",
   "metadata": {},
   "outputs": [],
   "source": []
  }
 ],
 "metadata": {
  "kernelspec": {
   "display_name": "Python 3 (ipykernel)",
   "language": "python",
   "name": "python3"
  },
  "language_info": {
   "codemirror_mode": {
    "name": "ipython",
    "version": 3
   },
   "file_extension": ".py",
   "mimetype": "text/x-python",
   "name": "python",
   "nbconvert_exporter": "python",
   "pygments_lexer": "ipython3",
   "version": "3.9.7"
  },
  "toc-autonumbering": true
 },
 "nbformat": 4,
 "nbformat_minor": 5
}
